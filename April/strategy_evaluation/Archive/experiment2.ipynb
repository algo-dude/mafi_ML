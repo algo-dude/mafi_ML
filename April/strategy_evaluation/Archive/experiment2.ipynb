{
 "cells": [
  {
   "cell_type": "code",
   "execution_count": 1,
   "metadata": {},
   "outputs": [],
   "source": [
    "import datetime as dt\n",
    "import random\n",
    "import pandas as pd\n",
    "import numpy as np\n",
    "import util as ut\n",
    "import matplotlib.pyplot as plt\n",
    "import ManualStrategy as ms\n",
    "import StrategyLearner as sl\n",
    "from marketsimcode import compute_portvals"
   ]
  },
  {
   "cell_type": "code",
   "execution_count": 2,
   "metadata": {},
   "outputs": [],
   "source": [
    "def Portfolio_Statistics(portvals):\n",
    "    daily_returns = portvals.copy()\n",
    "    daily_returns[1:] = (portvals[1:] / portvals[:-1].values) - 1\n",
    "    daily_returns = daily_returns[1:]\n",
    "\n",
    "    cum_ret = (portvals.iloc[-1] / portvals.iloc[0]) - 1\n",
    "    avg_daily_ret = daily_returns.mean()\n",
    "    std_daily_ret = daily_returns.std()\n",
    "    sharpe_ratio = np.sqrt(252.0) * (avg_daily_ret / std_daily_ret)\n",
    "\n",
    "    return cum_ret,avg_daily_ret,std_daily_ret,sharpe_ratio"
   ]
  },
  {
   "cell_type": "code",
   "execution_count": 3,
   "metadata": {},
   "outputs": [
    {
     "name": "stdout",
     "output_type": "stream",
     "text": [
      "Date Range: 2008-01-01 00:00:00 to 2009-12-31 00:00:00 for JPM\n",
      "\n",
      "Strategy Learner with Impact 0.0\n",
      "Average Daily Return of Fund: 0.0018914305182329866\n",
      "Cumulative Return of Fund: 1.5348000000000002\n",
      "Standard Deviation of Fund: 0.009444612098368395\n",
      "Sharpe Ratio of Fund: 3.179117186358779\n",
      "\n",
      "Strategy Learner with Impact 0.002\n",
      "Average Daily Return of Fund: 0.0015924975798731205\n",
      "Cumulative Return of Fund: 1.1542203999999998\n",
      "Standard Deviation of Fund: 0.01174946353130212\n",
      "Sharpe Ratio of Fund: 2.1515974147712718\n",
      "\n",
      "Strategy Learner with Impact 0.05\n",
      "Average Daily Return of Fund: 0.0007359611829096259\n",
      "Cumulative Return of Fund: 0.3629411734717287\n",
      "Standard Deviation of Fund: 0.015603874805442947\n",
      "Sharpe Ratio of Fund: 0.7487256680231416\n",
      "\n",
      "Strategy Learner with Impact 0.1\n",
      "Average Daily Return of Fund: 0.0009331734444885982\n",
      "Cumulative Return of Fund: 0.48749388994623155\n",
      "Standard Deviation of Fund: 0.017015667531697705\n",
      "Sharpe Ratio of Fund: 0.8705899523273188\n"
     ]
    }
   ],
   "source": [
    "if __name__ == \"__main__\":\n",
    "    sd = dt.datetime(2008, 1, 1)\n",
    "    ed = dt.datetime(2009, 12, 31)\n",
    "    symbol = \"JPM\"\n",
    "    moving_window = 21\n",
    "\n",
    "    # Strategy Learner\n",
    "\n",
    "    # Imapct 0.0\n",
    "    learner = sl.StrategyLearner(verbose=False, impact=0.0)\n",
    "    learner.add_evidence(symbol=symbol, sd=sd, ed=ed, sv=100000)\n",
    "    df_trades = learner.testPolicy(symbol=symbol, sd=sd, ed=ed, sv=100000)\n",
    "    port_vals = compute_portvals(df_trades, start_val=100000, commission=0.0, impact=0.0)\n",
    "    port_vals_norm = port_vals / port_vals.iloc[0]\n",
    "\n",
    "    # Imapct 0.002\n",
    "    learner1 = sl.StrategyLearner(verbose=False, impact=0.002)\n",
    "    learner1.add_evidence(symbol=symbol, sd=sd, ed=ed, sv=100000)\n",
    "    df_trades1 = learner1.testPolicy(symbol=symbol, sd=sd, ed=ed, sv=100000)\n",
    "    port_vals1 = compute_portvals(df_trades1, start_val=100000, commission=0.0, impact=0.002)\n",
    "    port_vals_norm1 = port_vals1 / port_vals1.iloc[0]\n",
    "\n",
    "    # Imapct 0.05\n",
    "    learner2 = sl.StrategyLearner(verbose=False, impact=0.05)\n",
    "    learner2.add_evidence(symbol=symbol, sd=sd, ed=ed, sv=100000)\n",
    "    df_trades2 = learner2.testPolicy(symbol=symbol, sd=sd, ed=ed, sv=100000)\n",
    "    port_vals2 = compute_portvals(df_trades2, start_val=100000, commission=0.0, impact=0.05)\n",
    "    port_vals_norm2 = port_vals2 / port_vals2.iloc[0]\n",
    "\n",
    "    # Imapct 0.1\n",
    "    learner3 = sl.StrategyLearner(verbose=False, impact=0.1)\n",
    "    learner3.add_evidence(symbol=symbol, sd=sd, ed=ed, sv=100000)\n",
    "    df_trades3 = learner3.testPolicy(symbol=symbol, sd=sd, ed=ed, sv=100000)\n",
    "    port_vals3 = compute_portvals(df_trades3, start_val=100000, commission=0.0, impact=0.1)\n",
    "    port_vals_norm3 = port_vals3 / port_vals3.iloc[0]\n",
    "\n",
    "\n",
    "    cum_ret, avg_daily_ret, std_daily_ret, sharpe_ratio = Portfolio_Statistics(port_vals_norm)\n",
    "    print(f\"Date Range: {sd} to {ed} for {symbol}\")\n",
    "    print()\n",
    "    print(\"Strategy Learner with Impact 0.0\")\n",
    "    print(f\"Average Daily Return of Fund: {avg_daily_ret}\")\n",
    "    print(f\"Cumulative Return of Fund: {cum_ret}\")\n",
    "    print(f\"Standard Deviation of Fund: {std_daily_ret}\")\n",
    "    print(f\"Sharpe Ratio of Fund: {sharpe_ratio}\")\n",
    "\n",
    "    cum_ret1, avg_daily_ret1, std_daily_ret1, sharpe_ratio1 = Portfolio_Statistics(port_vals_norm1)\n",
    "\n",
    "    print()\n",
    "    print(\"Strategy Learner with Impact 0.002\")\n",
    "    print(f\"Average Daily Return of Fund: {avg_daily_ret1}\")\n",
    "    print(f\"Cumulative Return of Fund: {cum_ret1}\")\n",
    "    print(f\"Standard Deviation of Fund: {std_daily_ret1}\")\n",
    "    print(f\"Sharpe Ratio of Fund: {sharpe_ratio1}\")\n",
    "\n",
    "    cum_ret2, avg_daily_ret2, std_daily_ret2, sharpe_ratio2 = Portfolio_Statistics(port_vals_norm2)\n",
    "\n",
    "    print()\n",
    "    print(\"Strategy Learner with Impact 0.05\")\n",
    "    print(f\"Average Daily Return of Fund: {avg_daily_ret2}\")\n",
    "    print(f\"Cumulative Return of Fund: {cum_ret2}\")\n",
    "    print(f\"Standard Deviation of Fund: {std_daily_ret2}\")\n",
    "    print(f\"Sharpe Ratio of Fund: {sharpe_ratio2}\")\n",
    "\n",
    "    cum_ret3, avg_daily_ret3, std_daily_ret3, sharpe_ratio3 = Portfolio_Statistics(port_vals_norm3)\n",
    "\n",
    "    print()\n",
    "    print(\"Strategy Learner with Impact 0.1\")\n",
    "    print(f\"Average Daily Return of Fund: {avg_daily_ret3}\")\n",
    "    print(f\"Cumulative Return of Fund: {cum_ret3}\")\n",
    "    print(f\"Standard Deviation of Fund: {std_daily_ret3}\")\n",
    "    print(f\"Sharpe Ratio of Fund: {sharpe_ratio3}\")"
   ]
  },
  {
   "cell_type": "code",
   "execution_count": 5,
   "metadata": {},
   "outputs": [
    {
     "data": {
      "text/plain": [
       " 0.0       428\n",
       "-2000.0     38\n",
       " 2000.0     38\n",
       "-1000.0      1\n",
       "Name: JPM, dtype: int64"
      ]
     },
     "execution_count": 5,
     "metadata": {},
     "output_type": "execute_result"
    }
   ],
   "source": [
    "df_trades.JPM.value_counts()"
   ]
  },
  {
   "cell_type": "code",
   "execution_count": 6,
   "metadata": {},
   "outputs": [
    {
     "data": {
      "text/plain": [
       " 0.0       435\n",
       " 2000.0     35\n",
       "-2000.0     34\n",
       "-1000.0      1\n",
       "Name: JPM, dtype: int64"
      ]
     },
     "execution_count": 6,
     "metadata": {},
     "output_type": "execute_result"
    }
   ],
   "source": [
    "df_trades1.JPM.value_counts()"
   ]
  },
  {
   "cell_type": "code",
   "execution_count": 7,
   "metadata": {},
   "outputs": [
    {
     "data": {
      "text/plain": [
       " 0.0       487\n",
       "-2000.0      9\n",
       " 2000.0      8\n",
       " 1000.0      1\n",
       "Name: JPM, dtype: int64"
      ]
     },
     "execution_count": 7,
     "metadata": {},
     "output_type": "execute_result"
    }
   ],
   "source": [
    "df_trades2.JPM.value_counts()"
   ]
  },
  {
   "cell_type": "code",
   "execution_count": 8,
   "metadata": {},
   "outputs": [
    {
     "data": {
      "text/plain": [
       " 0.0       494\n",
       " 2000.0      5\n",
       "-2000.0      5\n",
       " 1000.0      1\n",
       "Name: JPM, dtype: int64"
      ]
     },
     "execution_count": 8,
     "metadata": {},
     "output_type": "execute_result"
    }
   ],
   "source": [
    "df_trades3.JPM.value_counts()"
   ]
  },
  {
   "cell_type": "code",
   "execution_count": 24,
   "metadata": {
    "scrolled": true
   },
   "outputs": [
    {
     "data": {
      "text/plain": [
       "11"
      ]
     },
     "execution_count": 24,
     "metadata": {},
     "output_type": "execute_result"
    }
   ],
   "source": [
    "df_trades3[df_trades3 != 0].count()[0]"
   ]
  },
  {
   "cell_type": "code",
   "execution_count": null,
   "metadata": {},
   "outputs": [],
   "source": []
  }
 ],
 "metadata": {
  "kernelspec": {
   "display_name": "Python 3",
   "language": "python",
   "name": "python3"
  },
  "language_info": {
   "codemirror_mode": {
    "name": "ipython",
    "version": 3
   },
   "file_extension": ".py",
   "mimetype": "text/x-python",
   "name": "python",
   "nbconvert_exporter": "python",
   "pygments_lexer": "ipython3",
   "version": "3.7.3"
  }
 },
 "nbformat": 4,
 "nbformat_minor": 2
}
