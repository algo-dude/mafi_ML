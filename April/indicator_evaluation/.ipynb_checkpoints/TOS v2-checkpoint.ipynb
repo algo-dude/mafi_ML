{
 "cells": [
  {
   "cell_type": "code",
   "execution_count": 1,
   "metadata": {},
   "outputs": [],
   "source": [
    "import pandas as pd\n",
    "import numpy as np\n",
    "import os\n",
    "import datetime as dt\n",
    "import matplotlib.pyplot as plt\n",
    "%matplotlib inline\n",
    "import marketsimcode as m"
   ]
  },
  {
   "cell_type": "code",
   "execution_count": 2,
   "metadata": {},
   "outputs": [],
   "source": [
    "def symbol_to_path(symbol, base_dir=None): \n",
    "    return (\"C:\\\\Users\\\\aaladdha\\\\Desktop\\\\Masters\\\\ML4T_2021Spring\\\\data\\\\{}.csv\".format(str(symbol)))  \n",
    " \n",
    "\n",
    "def get_data(symbols,dates, addSPY = True, colname = 'Adj Close'):\n",
    "    df = pd.DataFrame(index = dates)\n",
    "    if addSPY and \"SPY\" not in symbols:\n",
    "        symbols =['SPY'] + list(symbols)\n",
    "    for symbol in symbols:\n",
    "        df_temp = pd.read_csv(symbol_to_path(symbol), index_col=\"Date\", parse_dates=True, usecols=[\"Date\", colname],na_values=[\"nan\"])\n",
    "        df_temp = df_temp.rename(columns={colname: symbol})\n",
    "        df = df.join(df_temp)\n",
    "        if symbol == \"SPY\": \n",
    "            df = df.dropna(subset=[\"SPY\"])\n",
    "        \n",
    "    return df    "
   ]
  },
  {
   "cell_type": "code",
   "execution_count": 3,
   "metadata": {},
   "outputs": [],
   "source": [
    "def getprices(symbol, start_date, end_date):\n",
    "    prices = get_data([symbol], pd.date_range(start_date, end_date))\n",
    "    if 'SPY' not in symbol:\n",
    "            prices.drop('SPY', axis = 1, inplace = True)\n",
    "         \n",
    "    prices= prices.fillna(method ='ffill')\n",
    "    prices = prices.fillna(method = 'bfill')\n",
    "    prices_normed = prices/prices.iloc[0]\n",
    "    return prices_normed "
   ]
  },
  {
   "cell_type": "code",
   "execution_count": 4,
   "metadata": {},
   "outputs": [],
   "source": [
    "def Portfolio_Statistics(portvals):\n",
    "    daily_returns = portvals.copy()\n",
    "    daily_returns[1:] = (portvals[1:] / portvals[:-1].values) - 1\n",
    "    daily_returns = daily_returns[1:]\n",
    "\n",
    "    cum_ret = (portvals.iloc[-1] / portvals.iloc[0]) - 1\n",
    "    avg_daily_ret = daily_returns.mean()\n",
    "    std_daily_ret = daily_returns.std()\n",
    "    sharpe_ratio = np.sqrt(252.0) * (avg_daily_ret / std_daily_ret)\n",
    "\n",
    "    return cum_ret,avg_daily_ret,std_daily_ret,sharpe_ratio\n"
   ]
  },
  {
   "cell_type": "code",
   "execution_count": 13,
   "metadata": {},
   "outputs": [],
   "source": [
    "def benchmark(symbol, sd, ed, shares):  \n",
    "\n",
    "    prices =  getprices(symbol, sd, ed)\n",
    "    df_trades = pd.DataFrame(index = prices.index)\n",
    "    df_trades[symbol] = 0\n",
    "\n",
    "    start =df_trades.index.min()\n",
    "    end = df_trades.index.max()\n",
    "    df_trades.loc[start,symbol] = shares\n",
    "    return df_trades\n"
   ]
  },
  {
   "cell_type": "code",
   "execution_count": 6,
   "metadata": {},
   "outputs": [],
   "source": [
    "def compute_portvals(trade_df, start_val=100000,  commission=0.0,impact=0.0):    \n",
    "    \n",
    "    orders = trade_df\n",
    "    orders.sort_index(inplace=True)\n",
    "    start_date = orders.index.min()\n",
    "    end_date = orders.index.max()\n",
    "    stocks = list(trade_df.columns)\n",
    "\n",
    "   #Getting Stock Prices for the range start_date - end_date\n",
    "    prices = get_data(stocks, pd.date_range(start_date, end_date))\n",
    "    prices.ffill(inplace=True)    #Forward Filling first\n",
    "    prices.bfill(inplace=True)    #Backward filling\n",
    "\n",
    "    #SPY gets automatically added using get_data. So, delete SPY if not in the list of orders\n",
    "    if 'SPY' not in stocks:\n",
    "        prices.drop('SPY', axis=1, inplace=True)\n",
    "\n",
    "    prices['Cash'] = 1   #Adding a cash field to prices and initializing to 1 so that we can multiply it straight away with holdings\n",
    "\n",
    "    trade = pd.DataFrame(np.zeros(prices.shape), columns=prices.columns, index=prices.index)\n",
    "    trade.iloc[0, -1] = start_val  #Cash for first date set to start value\n",
    "    \n",
    "    for sym in stocks:\n",
    "\n",
    "        for index, row in orders.iterrows():\n",
    "\n",
    "            stock = sym\n",
    "            shares = row[sym]\n",
    "            stock_price = prices.loc[index, stock]  # getting stock price from prices df\n",
    "\n",
    "            if shares < 0:\n",
    "                trade.loc[index, stock] = trade.loc[index, stock] + shares\n",
    "                stock_price = stock_price - (stock_price * impact)\n",
    "\n",
    "            else:\n",
    "                trade.loc[index, stock] = trade.loc[index, stock] + shares\n",
    "                stock_price = stock_price + (stock_price * impact)\n",
    "\n",
    "            # accounting market impact\n",
    "            trade.loc[index, 'Cash'] = trade.loc[index, 'Cash'] - commission - (stock_price * shares)\n",
    "\n",
    "        holding = trade.cumsum()\n",
    "        holding_value = holding * prices  # computing stock total values\n",
    "        portvals = holding_value.sum(axis=1)\n",
    "\n",
    "    return portvals\n"
   ]
  },
  {
   "cell_type": "code",
   "execution_count": 7,
   "metadata": {},
   "outputs": [],
   "source": [
    "def testPolicy(symbol = \"JPM\",sd=dt.datetime(2010, 1, 1), ed=dt.datetime(2011,12,31), sv = 100000):\n",
    "\n",
    "    prices =  getprices(symbol, sd, ed)\n",
    "    prices_temp = prices.copy()\n",
    "   \n",
    "    #Looking 1 day ahead \n",
    "    prices_temp['NextDay'] = prices_temp.shift(-1)\n",
    "    trade_fwd = pd.DataFrame(index = prices.index)\n",
    "    trade_bwd = pd.DataFrame(index = prices.index)\n",
    "\n",
    "    #computing trades by looking at prices 1 day ahead \n",
    "    trade_fwd['Order'] = np.where(prices_temp[symbol] < prices_temp['NextDay'], 'BUY', 'SELL')\n",
    "\n",
    "    #Now looking at orders 1 day before and checking whether we opted for a Buy or Sell opp. If buy yesterday, then sell today and vice versa\n",
    "    trade_bwd = trade_fwd.copy()\n",
    "    trade_bwd['Order'] = trade_bwd.shift(1)\n",
    "\n",
    "    trade_bwd = trade_bwd[1:]   #cant look prior to the first day \n",
    "    trade_bwd['Orders_Temp'] = np.where(trade_bwd['Order'] == 'BUY', 'SELL','BUY')\n",
    "    trade_bwd.drop(['Order'], axis =1, inplace = True)\n",
    "    trade_bwd.columns = ['Order']\n",
    "\n",
    "    trade_df = pd.concat([trade_fwd, trade_bwd])\n",
    "    trade_df.sort_index(inplace = True, ascending = True)\n",
    "    trade_df['Shares'] = np.where(trade_df['Order'] =='BUY', 1000, -1000)\n",
    "    trade_df['Symbol'] = symbol\n",
    "    trade_df = trade_df.loc[:,['Shares']]\n",
    "    trade_df.columns = [symbol]\n",
    "\n",
    "    \n",
    "    return trade_df\n",
    "\n",
    "\n"
   ]
  },
  {
   "cell_type": "code",
   "execution_count": 8,
   "metadata": {},
   "outputs": [],
   "source": [
    "def test_code():\n",
    "    sd=dt.datetime(2008,1,1)\n",
    "    ed=dt.datetime(2009,12,31)\n",
    "    symbol = \"JPM\"\n",
    "    \n",
    "    #Theoretically Optimal Strategy\n",
    "    df_trades_optimal = testPolicy(symbol = \"JPM\", sd=sd, ed=ed, sv = 100000)\n",
    "    port_vals_optimal = compute_portvals(df_trades_optimal, start_val = 100000, commission = 0, impact = 0)\n",
    "    \n",
    "    #Normalizing PortFolio Values\n",
    "    port_vals_norm_optimal = port_vals_optimal/port_vals_optimal.iloc[0]\n",
    "\n",
    "    cum_ret_opt,avg_daily_ret_opt,std_daily_ret_opt,sharpe_ratio_opt = Portfolio_Statistics(port_vals_norm_optimal)\n",
    "    \n",
    "    print(f\"Date Range: {sd} to {ed} for {symbol}\")\n",
    "    print()\n",
    "    print(\"Optimal Strategy\")\n",
    "    print(f\"Sharpe Ratio of Fund: {sharpe_ratio_opt}\")  \n",
    "    print(f\"Cumulative Return of Fund: {cum_ret_opt}\") \n",
    "    print(f\"Standard Deviation of Fund: {std_daily_ret_opt}\")\n",
    "    print(f\"Average Daily Return of Fund: {avg_daily_ret_opt}\") \n",
    "    print(f\"Final Portfolio Value: {port_vals_optimal[-1]}\")\n",
    "    \n",
    "    #Benchmark Strategy \n",
    "    df_trades_benchmark = benchmark(symbol = \"JPM\", sd=sd, ed=ed,shares = 1000)\n",
    "    port_vals_benchmark = compute_portvals(df_trades_benchmark, start_val = 100000, commission = 0, impact = 0)\n",
    "    \n",
    "    #Normalizing PortFolio Values\n",
    "    port_vals_norm_benchmark = port_vals_benchmark/port_vals_benchmark.iloc[0]\n",
    "\n",
    "    cum_ret_bench,avg_daily_ret_bench,std_daily_ret_bench,sharpe_ratio_bench = Portfolio_Statistics(port_vals_norm_benchmark)\n",
    "    print()\n",
    "    print(\"Benchmark Strategy\")\n",
    "\n",
    "    print(f\"Sharpe Ratio of Fund: {sharpe_ratio_bench}\")  \n",
    "    print(f\"Cumulative Return of Fund: {cum_ret_bench}\") \n",
    "    print(f\"Standard Deviation of Fund: {std_daily_ret_bench}\")\n",
    "    print(f\"Average Daily Return of Fund: {avg_daily_ret_bench}\") \n",
    "    print(f\"Final Portfolio Value: {port_vals_benchmark[-1]}\")\n",
    "    \n",
    "  \n",
    "    plt.figure(figsize=(15,7))\n",
    "    plt.plot(port_vals_norm_optimal, 'red')\n",
    "    plt.plot(port_vals_norm_benchmark,'green')\n",
    "    plt.title(\"Portfolio vs Benchmark\")\n",
    "    plt.show()\n"
   ]
  },
  {
   "cell_type": "code",
   "execution_count": 14,
   "metadata": {},
   "outputs": [
    {
     "name": "stdout",
     "output_type": "stream",
     "text": [
      "Date Range: 2008-01-01 00:00:00 to 2009-12-31 00:00:00 for JPM\n",
      "\n",
      "Optimal Strategy\n",
      "Sharpe Ratio of Fund: 13.322769848217233\n",
      "Cumulative Return of Fund: 5.7861\n",
      "Standard Deviation of Fund: 0.004547823197907996\n",
      "Average Daily Return of Fund: 0.0038167861508578214\n",
      "Final Portfolio Value: 678610.0\n",
      "\n",
      "Benchmark Strategy\n",
      "Sharpe Ratio of Fund: 0.1569184064240322\n",
      "Cumulative Return of Fund: 0.012299999999999978\n",
      "Standard Deviation of Fund: 0.01700436627121376\n",
      "Average Daily Return of Fund: 0.00016808697819094233\n",
      "Final Portfolio Value: 101230.0\n"
     ]
    },
    {
     "data": {
      "image/png": "[encoded data removed]",
      "text/plain": [
       "<Figure size 1080x504 with 1 Axes>"
      ]
     },
     "metadata": {
      "needs_background": "light"
     },
     "output_type": "display_data"
    }
   ],
   "source": [
    "if __name__ == \"__main__\":\n",
    "    test_code()"
   ]
  },
  {
   "cell_type": "code",
   "execution_count": 10,
   "metadata": {
    "collapsed": true
   },
   "outputs": [
    {
     "ename": "NameError",
     "evalue": "name 'port_vals_norm_optimal' is not defined",
     "output_type": "error",
     "traceback": [
      "\u001b[1;31m---------------------------------------------------------------------------\u001b[0m",
      "\u001b[1;31mNameError\u001b[0m                                 Traceback (most recent call last)",
      "\u001b[1;32m<ipython-input-10-487dbb722081>\u001b[0m in \u001b[0;36m<module>\u001b[1;34m\u001b[0m\n\u001b[0;32m      1\u001b[0m \u001b[0mplt\u001b[0m\u001b[1;33m.\u001b[0m\u001b[0mfigure\u001b[0m\u001b[1;33m(\u001b[0m\u001b[0mfigsize\u001b[0m\u001b[1;33m=\u001b[0m\u001b[1;33m(\u001b[0m\u001b[1;36m20\u001b[0m\u001b[1;33m,\u001b[0m\u001b[1;36m7\u001b[0m\u001b[1;33m)\u001b[0m\u001b[1;33m)\u001b[0m\u001b[1;33m\u001b[0m\u001b[1;33m\u001b[0m\u001b[0m\n\u001b[1;32m----> 2\u001b[1;33m \u001b[0mplt\u001b[0m\u001b[1;33m.\u001b[0m\u001b[0mplot\u001b[0m\u001b[1;33m(\u001b[0m\u001b[0mport_vals_norm_optimal\u001b[0m\u001b[1;33m,\u001b[0m \u001b[1;34m'm-'\u001b[0m\u001b[1;33m)\u001b[0m\u001b[1;33m\u001b[0m\u001b[1;33m\u001b[0m\u001b[0m\n\u001b[0m\u001b[0;32m      3\u001b[0m \u001b[0mplt\u001b[0m\u001b[1;33m.\u001b[0m\u001b[0mplot\u001b[0m\u001b[1;33m(\u001b[0m\u001b[0mport_vals_norm_benchmark\u001b[0m\u001b[1;33m,\u001b[0m\u001b[1;34m'dodgerblue'\u001b[0m\u001b[1;33m)\u001b[0m\u001b[1;33m\u001b[0m\u001b[1;33m\u001b[0m\u001b[0m\n\u001b[0;32m      4\u001b[0m \u001b[0mplt\u001b[0m\u001b[1;33m.\u001b[0m\u001b[0mtitle\u001b[0m\u001b[1;33m(\u001b[0m\u001b[1;34m\"Portfolio vs Benchmark\"\u001b[0m\u001b[1;33m)\u001b[0m\u001b[1;33m\u001b[0m\u001b[1;33m\u001b[0m\u001b[0m\n\u001b[0;32m      5\u001b[0m plt.text(plt.xlim()[0] + 15, \n",
      "\u001b[1;31mNameError\u001b[0m: name 'port_vals_norm_optimal' is not defined"
     ]
    },
    {
     "data": {
      "text/plain": [
       "<Figure size 1440x504 with 0 Axes>"
      ]
     },
     "metadata": {},
     "output_type": "display_data"
    }
   ],
   "source": [
    "plt.figure(figsize=(20,7))\n",
    "plt.plot(port_vals_norm_optimal, 'm-')\n",
    "plt.plot(port_vals_norm_benchmark,'dodgerblue')\n",
    "plt.title(\"Portfolio vs Benchmark\")\n",
    "plt.text(plt.xlim()[0] + 15, \n",
    "               plt.ylim()[0] + 4 ,'AARTI LADDHA',  alpha=0.5,fontsize=90, color='gray',va='center')\n",
    "plt.show()\n",
    "plt.savefig('test.png')"
   ]
  }
 ],
 "metadata": {
  "kernelspec": {
   "display_name": "Python 3",
   "language": "python",
   "name": "python3"
  },
  "language_info": {
   "codemirror_mode": {
    "name": "ipython",
    "version": 3
   },
   "file_extension": ".py",
   "mimetype": "text/x-python",
   "name": "python",
   "nbconvert_exporter": "python",
   "pygments_lexer": "ipython3",
   "version": "3.7.3"
  }
 },
 "nbformat": 4,
 "nbformat_minor": 2
}
