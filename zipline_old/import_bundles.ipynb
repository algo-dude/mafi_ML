{
 "cells": [
  {
   "cell_type": "code",
   "execution_count": 1,
   "metadata": {},
   "outputs": [],
   "source": [
    "import numpy as np\n",
    "import matplotlib.pyplot as plt\n",
    "import pandas as pd\n",
    "import yfinance as yf"
   ]
  },
  {
   "cell_type": "code",
   "execution_count": 2,
   "metadata": {},
   "outputs": [],
   "source": [
    "def download_csv_data(ticker, start_date, end_date, freq, path):\n",
    "    \n",
    "    symbol = yf.Ticker(ticker)\n",
    "\n",
    "    df = symbol.history(start=start_date, end=end_date, interval=freq)\n",
    "\n",
    "    df.index = pd.to_datetime(df.index)\n",
    "    # need to rename columns to without caps\n",
    "    df = df.rename(columns={'Open': 'open', 'High': 'high', 'Low': 'low', 'Close': 'close', 'Volume': 'volume'})\n",
    "\n",
    "    # save data to csv for later ingestion\n",
    "    df.to_csv(path, header=True, index=True)\n",
    "\n",
    "    # plot the time series\n",
    "    df['close'].plot(title='{} prices --- {}:{}'.format(ticker, start_date, end_date))\n",
    "    "
   ]
  },
  {
   "cell_type": "code",
   "execution_count": 3,
   "metadata": {},
   "outputs": [],
   "source": [
    "# Yahoo finance tickers for SP500, RUA, and VIX\n",
    "# SP500 is called GSPC... can change to SPX\n",
    "# note that this is NOT the SP composite, it is the SP500 \n",
    "tickers = ['^GSPC', '^RUA', '^VIX']\n",
    "start = '1990-01-01'\n",
    "end = '2022-01-01'\n",
    "period = '1d'"
   ]
  },
  {
   "cell_type": "code",
   "execution_count": 4,
   "metadata": {},
   "outputs": [
    {
     "data": {
      "image/png": "[encoded data removed]",
      "text/plain": [
       "<Figure size 432x288 with 1 Axes>"
      ]
     },
     "metadata": {
      "needs_background": "light"
     },
     "output_type": "display_data"
    }
   ],
   "source": [
    "for i in tickers:\n",
    "    download_csv_data(i, start, end, period, 'data/daily/{}.csv'.format(i))\n",
    "import os\n",
    "os.rename ('data/daily/^GSPC.csv', 'data/daily/^SPX.csv')"
   ]
  },
  {
   "cell_type": "markdown",
   "metadata": {},
   "source": [
    "zipline needs to use bundles, check in terminal with\n",
    "`zipline bundles`\n",
    "should output something like:\n",
    "\n",
    "```\n",
    "% zipline bundles\n",
    "csvdir <no ingestions>\n",
    "quandl <no ingestions>\n",
    "quantopian-quandl <no ingestions>\n",
    "```\n",
    "\n",
    "I am using https://github.com/zkbfdzp/hhatefi for bundle helper.\n"
   ]
  },
  {
   "cell_type": "markdown",
   "metadata": {},
   "source": [
    "`git clone https://github.com/zkbfdzp/hhatefi`\n",
    "\n",
    "`pip install requirements.txt`\n",
    "\n",
    "`python install.py -f`\n",
    "\n"
   ]
  },
  {
   "cell_type": "markdown",
   "metadata": {},
   "source": [
    "adding the three files above as a bundle:\n",
    "```\n",
    "CSVDIR='data/' zipline ingest -b csvdir\n",
    "\n",
    "zipline bundles\n",
    "```\n",
    "make sure /data/ folder is organized into /daily and /minute subfolers respectively"
   ]
  },
  {
   "cell_type": "code",
   "execution_count": 16,
   "metadata": {},
   "outputs": [
    {
     "data": {
      "text/plain": [
       "7985    2021-10-21\n",
       "7986    2021-10-22\n",
       "7987    2021-10-25\n",
       "7988    2021-10-26\n",
       "7989    2021-10-27\n",
       "7990    2021-10-28\n",
       "7991    2021-10-29\n",
       "7992    2021-11-01\n",
       "7993    2021-11-02\n",
       "7994    2021-11-03\n",
       "7995    2021-11-04\n",
       "7996    2021-11-05\n",
       "7997    2021-11-08\n",
       "7998    2021-11-09\n",
       "7999    2021-11-10\n",
       "8000    2021-11-11\n",
       "8001    2021-11-12\n",
       "8002    2021-11-15\n",
       "8003    2021-11-16\n",
       "8004    2021-11-17\n",
       "8005    2021-11-18\n",
       "8006    2021-11-19\n",
       "8007    2021-11-22\n",
       "8008    2021-11-23\n",
       "8009    2021-11-24\n",
       "8010    2021-11-26\n",
       "8011    2021-11-29\n",
       "8012    2021-11-30\n",
       "8013    2021-12-01\n",
       "8014    2021-12-02\n",
       "8015    2021-12-03\n",
       "8016    2021-12-06\n",
       "8017    2021-12-07\n",
       "8018    2021-12-08\n",
       "8019    2021-12-09\n",
       "8020    2021-12-10\n",
       "8021    2021-12-13\n",
       "8022    2021-12-14\n",
       "8023    2021-12-15\n",
       "8024    2021-12-16\n",
       "8025    2021-12-17\n",
       "8026    2021-12-20\n",
       "8027    2021-12-21\n",
       "8028    2021-12-22\n",
       "8029    2021-12-23\n",
       "8030    2021-12-27\n",
       "8031    2021-12-28\n",
       "8032    2021-12-29\n",
       "8033    2021-12-30\n",
       "8034    2021-12-31\n",
       "Name: Date, dtype: object"
      ]
     },
     "execution_count": 16,
     "metadata": {},
     "output_type": "execute_result"
    }
   ],
   "source": [
    "RUA_df = pd.read_csv('data/daily/^RUA.csv')\n",
    "SPX_df = pd.read_csv('data/daily/^SPX.csv')\n",
    "VIX_df = pd.read_csv('data/daily/^VIX.csv')\n",
    "\n",
    "# check row at 2018-12-24\n",
    "RUA_df['Date'].tail(50)"
   ]
  },
  {
   "cell_type": "markdown",
   "metadata": {},
   "source": []
  },
  {
   "cell_type": "markdown",
   "metadata": {},
   "source": [
    "Alternatively, we can use the built in function to grab symbols such as:\n",
    "```\n",
    "YAHOO_SYM_LST=^RUA,^GSPC,^VIX zipline ingest -b yahoo_direct\n",
    "```\n"
   ]
  },
  {
   "cell_type": "markdown",
   "metadata": {},
   "source": [
    "**I have spent probably 20 hours trying various ways to get the zipline bundle ingest functino to agree,**\n",
    "**and I can not seem to make any headway.**\n",
    "\n",
    "\n",
    "**I am going to move to backtrader, continue to read ML4T, and do the Georgia Tech Machine Learning For Trading course**\n"
   ]
  },
  {
   "cell_type": "markdown",
   "metadata": {},
   "source": []
  }
 ],
 "metadata": {
  "interpreter": {
   "hash": "949777d72b0d2535278d3dc13498b2535136f6dfe0678499012e853ee9abcab1"
  },
  "kernelspec": {
   "display_name": "Python 3.9.0 64-bit",
   "language": "python",
   "name": "python3"
  },
  "language_info": {
   "codemirror_mode": {
    "name": "ipython",
    "version": 3
   },
   "file_extension": ".py",
   "mimetype": "text/x-python",
   "name": "python",
   "nbconvert_exporter": "python",
   "pygments_lexer": "ipython3",
   "version": "3.9.0"
  },
  "orig_nbformat": 4
 },
 "nbformat": 4,
 "nbformat_minor": 2
}
