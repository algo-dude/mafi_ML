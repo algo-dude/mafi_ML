{
  "cells": [
    {
      "cell_type": "code",
      "execution_count": 103,
      "metadata": {
        "colab": {
          "base_uri": "https://localhost:8080/"
        },
        "id": "mBwOEd-Z2n_N",
        "outputId": "93fff143-11fe-487b-e185-2a5019d446d4"
      },
      "outputs": [],
      "source": [
        "import pandas as pd\n",
        "import numpy as np\n",
        "import pandas_datareader.data as web\n",
        "import datetime as dt\n",
        "import yfinance as yf\n",
        "from sklearn import preprocessing\n",
        "import matplotlib.pyplot as plt \n",
        "plt.rc(\"font\", size=14)\n",
        "from sklearn.linear_model import LogisticRegression\n",
        "from sklearn.model_selection import train_test_split\n",
        "from statsmodels.stats.outliers_influence import variance_inflation_factor\n",
        "import seaborn as sns"
      ]
    },
    {
      "cell_type": "code",
      "execution_count": 104,
      "metadata": {
        "id": "erS6N8pi3Cml"
      },
      "outputs": [],
      "source": [
        "from fredapi import Fred\n",
        "fred = Fred(api_key = 'ec682064ba501918755568565884325e')\n",
        "start_date = ('01/01/2000')\n",
        "end_date = ('12/31/2017')\n",
        "\n",
        "eco_unc = pd.Series((fred.get_series('WLEMUINDXD', start_date, end_date)), name = 'eco_unc')\n",
        "tbill = pd.Series((fred.get_series('DTB3', start_date, end_date)), name = 'tbill')\n",
        "wti = pd.Series((fred.get_series('DCOILWTICO', start_date, end_date)), name = 'wti')\n",
        "effr = pd.Series((fred.get_series('EFFR', start_date, end_date)), name = 'effr')"
      ]
    },
    {
      "cell_type": "code",
      "execution_count": 105,
      "metadata": {
        "id": "_2JoogMkY93U"
      },
      "outputs": [
        {
          "data": {
            "text/plain": [
              "4565"
            ]
          },
          "execution_count": 105,
          "metadata": {},
          "output_type": "execute_result"
        }
      ],
      "source": [
        "data = pd.concat([eco_unc, tbill, wti, effr], axis =1).dropna()\n",
        "len(effr)"
      ]
    },
    {
      "cell_type": "code",
      "execution_count": 106,
      "metadata": {
        "colab": {
          "base_uri": "https://localhost:8080/"
        },
        "id": "GNnX9blC34VT",
        "outputId": "9b4a9203-7903-40cf-a3ce-a4f9acf73143"
      },
      "outputs": [
        {
          "name": "stdout",
          "output_type": "stream",
          "text": [
            "[*********************100%***********************]  1 of 1 completed\n"
          ]
        }
      ],
      "source": [
        "st_date = dt.datetime(2000, 1, 1)\n",
        "ed_date = dt.datetime(2017, 12, 31)\n",
        "SNP500 = yf.download('^GSPC', st_date, ed_date)\n",
        "SNP500 = SNP500['Adj Close'].to_frame()\n",
        "SNP500.fillna(method = 'bfill', inplace=True)\n",
        "SNP500['SMA 5'] = SNP500['Adj Close'].rolling(5).mean()\n",
        "SNP500['SMA 200'] = SNP500['Adj Close'].rolling(200).mean()\n",
        "conditions = [SNP500['SMA 5'] >= SNP500['SMA 200'],\n",
        "              SNP500['SMA 5'] < SNP500['SMA 200']]\n",
        "choices = [1, 0]\n",
        "SNP500['outcome'] = np.select(conditions, choices, 0)\n",
        "# SNP500 = SNP500['outcome'].dropna()\n"
      ]
    },
    {
      "cell_type": "code",
      "execution_count": 107,
      "metadata": {
        "id": "vI0EdBn9Pwxw"
      },
      "outputs": [],
      "source": [
        "features = pd.merge(data, SNP500, left_index = True, right_index = True).dropna()\n",
        "X = features[['eco_unc', 'tbill', 'wti', 'effr']] \n",
        "y = features['outcome']\n",
        "X_train, X_test, y_train, y_test = train_test_split(X, y, test_size=0.999, random_state=911)"
      ]
    },
    {
      "cell_type": "code",
      "execution_count": 101,
      "metadata": {
        "colab": {
          "base_uri": "https://localhost:8080/",
          "height": 174
        },
        "id": "g9HoDAtX54Ka",
        "outputId": "55b744ad-86ce-495b-d752-b578ecb04ef1"
      },
      "outputs": [
        {
          "data": {
            "text/html": [
              "<div>\n",
              "<style scoped>\n",
              "    .dataframe tbody tr th:only-of-type {\n",
              "        vertical-align: middle;\n",
              "    }\n",
              "\n",
              "    .dataframe tbody tr th {\n",
              "        vertical-align: top;\n",
              "    }\n",
              "\n",
              "    .dataframe thead th {\n",
              "        text-align: right;\n",
              "    }\n",
              "</style>\n",
              "<table border=\"1\" class=\"dataframe\">\n",
              "  <thead>\n",
              "    <tr style=\"text-align: right;\">\n",
              "      <th></th>\n",
              "      <th>ft</th>\n",
              "      <th>VIF</th>\n",
              "    </tr>\n",
              "  </thead>\n",
              "  <tbody>\n",
              "    <tr>\n",
              "      <th>0</th>\n",
              "      <td>eco_unc</td>\n",
              "      <td>1.292640</td>\n",
              "    </tr>\n",
              "    <tr>\n",
              "      <th>1</th>\n",
              "      <td>tbill</td>\n",
              "      <td>104.428563</td>\n",
              "    </tr>\n",
              "    <tr>\n",
              "      <th>2</th>\n",
              "      <td>wti</td>\n",
              "      <td>1.511427</td>\n",
              "    </tr>\n",
              "    <tr>\n",
              "      <th>3</th>\n",
              "      <td>effr</td>\n",
              "      <td>107.554187</td>\n",
              "    </tr>\n",
              "  </tbody>\n",
              "</table>\n",
              "</div>"
            ],
            "text/plain": [
              "        ft         VIF\n",
              "0  eco_unc    1.292640\n",
              "1    tbill  104.428563\n",
              "2      wti    1.511427\n",
              "3     effr  107.554187"
            ]
          },
          "execution_count": 101,
          "metadata": {},
          "output_type": "execute_result"
        }
      ],
      "source": [
        "vif = pd.DataFrame()\n",
        "vif[\"ft\"] = data.columns\n",
        "vif[\"VIF\"] = [variance_inflation_factor(data.values, i)\n",
        "                         for i in range(len(data.columns))]\n",
        "vif"
      ]
    },
    {
      "cell_type": "code",
      "execution_count": 102,
      "metadata": {
        "colab": {
          "base_uri": "https://localhost:8080/"
        },
        "id": "od4h4lTUabwh",
        "outputId": "4b4f2e37-1102-4726-a7f4-a19a60bf5982"
      },
      "outputs": [
        {
          "name": "stdout",
          "output_type": "stream",
          "text": [
            "score 0.756200280767431\n",
            "              precision    recall  f1-score   support\n",
            "\n",
            "           0       0.62      0.66      0.64      1390\n",
            "           1       0.83      0.80      0.82      2884\n",
            "\n",
            "    accuracy                           0.76      4274\n",
            "   macro avg       0.72      0.73      0.73      4274\n",
            "weighted avg       0.76      0.76      0.76      4274\n",
            "\n"
          ]
        }
      ],
      "source": [
        "log_regression = LogisticRegression()\n",
        "log_regression.fit(X_train,y_train)\n",
        "\n",
        "y_pred = log_regression.predict(X_test)\n",
        "\n",
        "print('score', log_regression.score(X_test, y_test))   #Return the mean accuracy on the given test data and labels.\n",
        "\n",
        "from sklearn.metrics import classification_report\n",
        "print(classification_report(y_test,y_pred))"
      ]
    },
    {
      "cell_type": "code",
      "execution_count": null,
      "metadata": {},
      "outputs": [],
      "source": []
    },
    {
      "cell_type": "code",
      "execution_count": 109,
      "metadata": {},
      "outputs": [],
      "source": [
        "features.to_csv('features.csv')"
      ]
    },
    {
      "cell_type": "code",
      "execution_count": null,
      "metadata": {},
      "outputs": [],
      "source": []
    }
  ],
  "metadata": {
    "colab": {
      "collapsed_sections": [],
      "name": "LogisticReg2.ipynb",
      "provenance": []
    },
    "kernelspec": {
      "display_name": "Python 3",
      "name": "python3"
    },
    "language_info": {
      "name": "python"
    }
  },
  "nbformat": 4,
  "nbformat_minor": 0
}
