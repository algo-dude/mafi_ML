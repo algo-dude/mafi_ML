{
  "cells": [
    {
      "cell_type": "code",
      "execution_count": null,
      "metadata": {
        "colab": {
          "base_uri": "https://localhost:8080/"
        },
        "id": "LUHyHfza2SKQ",
        "outputId": "b366823b-1c55-4b5c-c2b3-2026bc9d4624"
      },
      "outputs": [
        {
          "name": "stdout",
          "output_type": "stream",
          "text": [
            "Collecting yfinance\n",
            "  Downloading yfinance-0.1.70-py2.py3-none-any.whl (26 kB)\n",
            "Requirement already satisfied: pandas>=0.24.0 in /usr/local/lib/python3.7/dist-packages (from yfinance) (1.3.5)\n",
            "Collecting lxml>=4.5.1\n",
            "  Downloading lxml-4.7.1-cp37-cp37m-manylinux_2_17_x86_64.manylinux2014_x86_64.manylinux_2_24_x86_64.whl (6.4 MB)\n",
            "\u001b[K     |████████████████████████████████| 6.4 MB 11.7 MB/s \n",
            "\u001b[?25hRequirement already satisfied: multitasking>=0.0.7 in /usr/local/lib/python3.7/dist-packages (from yfinance) (0.0.10)\n",
            "Collecting requests>=2.26\n",
            "  Downloading requests-2.27.1-py2.py3-none-any.whl (63 kB)\n",
            "\u001b[K     |████████████████████████████████| 63 kB 777 kB/s \n",
            "\u001b[?25hRequirement already satisfied: numpy>=1.15 in /usr/local/lib/python3.7/dist-packages (from yfinance) (1.19.5)\n",
            "Requirement already satisfied: pytz>=2017.3 in /usr/local/lib/python3.7/dist-packages (from pandas>=0.24.0->yfinance) (2018.9)\n",
            "Requirement already satisfied: python-dateutil>=2.7.3 in /usr/local/lib/python3.7/dist-packages (from pandas>=0.24.0->yfinance) (2.8.2)\n",
            "Requirement already satisfied: six>=1.5 in /usr/local/lib/python3.7/dist-packages (from python-dateutil>=2.7.3->pandas>=0.24.0->yfinance) (1.15.0)\n",
            "Requirement already satisfied: certifi>=2017.4.17 in /usr/local/lib/python3.7/dist-packages (from requests>=2.26->yfinance) (2021.10.8)\n",
            "Requirement already satisfied: idna<4,>=2.5 in /usr/local/lib/python3.7/dist-packages (from requests>=2.26->yfinance) (2.10)\n",
            "Requirement already satisfied: charset-normalizer~=2.0.0 in /usr/local/lib/python3.7/dist-packages (from requests>=2.26->yfinance) (2.0.11)\n",
            "Requirement already satisfied: urllib3<1.27,>=1.21.1 in /usr/local/lib/python3.7/dist-packages (from requests>=2.26->yfinance) (1.24.3)\n",
            "Installing collected packages: requests, lxml, yfinance\n",
            "  Attempting uninstall: requests\n",
            "    Found existing installation: requests 2.23.0\n",
            "    Uninstalling requests-2.23.0:\n",
            "      Successfully uninstalled requests-2.23.0\n",
            "  Attempting uninstall: lxml\n",
            "    Found existing installation: lxml 4.2.6\n",
            "    Uninstalling lxml-4.2.6:\n",
            "      Successfully uninstalled lxml-4.2.6\n",
            "\u001b[31mERROR: pip's dependency resolver does not currently take into account all the packages that are installed. This behaviour is the source of the following dependency conflicts.\n",
            "google-colab 1.0.0 requires requests~=2.23.0, but you have requests 2.27.1 which is incompatible.\n",
            "datascience 0.10.6 requires folium==0.2.1, but you have folium 0.8.3 which is incompatible.\u001b[0m\n",
            "Successfully installed lxml-4.7.1 requests-2.27.1 yfinance-0.1.70\n"
          ]
        }
      ],
      "source": [
        "pip install yfinance"
      ]
    },
    {
      "cell_type": "code",
      "execution_count": null,
      "metadata": {
        "colab": {
          "base_uri": "https://localhost:8080/"
        },
        "id": "pZkXn2Hn2d_w",
        "outputId": "3eb0f2eb-df84-40f1-a11f-71b9fda39f3e"
      },
      "outputs": [
        {
          "name": "stdout",
          "output_type": "stream",
          "text": [
            "Collecting fredapi\n",
            "  Downloading fredapi-0.4.3-py3-none-any.whl (11 kB)\n",
            "Requirement already satisfied: pandas in /usr/local/lib/python3.7/dist-packages (from fredapi) (1.3.5)\n",
            "Requirement already satisfied: pytz>=2017.3 in /usr/local/lib/python3.7/dist-packages (from pandas->fredapi) (2018.9)\n",
            "Requirement already satisfied: python-dateutil>=2.7.3 in /usr/local/lib/python3.7/dist-packages (from pandas->fredapi) (2.8.2)\n",
            "Requirement already satisfied: numpy>=1.17.3 in /usr/local/lib/python3.7/dist-packages (from pandas->fredapi) (1.19.5)\n",
            "Requirement already satisfied: six>=1.5 in /usr/local/lib/python3.7/dist-packages (from python-dateutil>=2.7.3->pandas->fredapi) (1.15.0)\n",
            "Installing collected packages: fredapi\n",
            "Successfully installed fredapi-0.4.3\n"
          ]
        }
      ],
      "source": [
        "pip install fredapi"
      ]
    },
    {
      "cell_type": "code",
      "execution_count": 103,
      "metadata": {
        "colab": {
          "base_uri": "https://localhost:8080/"
        },
        "id": "mBwOEd-Z2n_N",
        "outputId": "93fff143-11fe-487b-e185-2a5019d446d4"
      },
      "outputs": [],
      "source": [
        "import pandas as pd\n",
        "import numpy as np\n",
        "import pandas_datareader.data as web\n",
        "import datetime as dt\n",
        "import yfinance as yf\n",
        "from sklearn import preprocessing\n",
        "import matplotlib.pyplot as plt \n",
        "plt.rc(\"font\", size=14)\n",
        "from sklearn.linear_model import LogisticRegression\n",
        "from sklearn.model_selection import train_test_split\n",
        "from statsmodels.stats.outliers_influence import variance_inflation_factor\n",
        "import seaborn as sns"
      ]
    },
    {
      "cell_type": "code",
      "execution_count": 104,
      "metadata": {
        "id": "erS6N8pi3Cml"
      },
      "outputs": [],
      "source": [
        "from fredapi import Fred\n",
        "fred = Fred(api_key = 'ec682064ba501918755568565884325e')\n",
        "start_date = ('01/01/2000')\n",
        "end_date = ('12/31/2017')\n",
        "\n",
        "eco_unc = pd.Series((fred.get_series('WLEMUINDXD', start_date, end_date)), name = 'eco_unc')\n",
        "tbill = pd.Series((fred.get_series('DTB3', start_date, end_date)), name = 'tbill')\n",
        "wti = pd.Series((fred.get_series('DCOILWTICO', start_date, end_date)), name = 'wti')\n",
        "effr = pd.Series((fred.get_series('EFFR', start_date, end_date)), name = 'effr')\n",
        "\n",
        "\n",
        "SPX = yf.download('^GSPC', start=start_date, end=end_date)\n",
        "RUA = yf.download('^RUA', start=start_date, end=end_date)\n",
        "# price is already adjusted\n",
        "SPX = SPX.drop(['Adj Close'], axis=1)\n",
        "RUA = RUA.drop(['Adj Close'], axis=1)\n",
        "# 10/200 MA\n",
        "SPX['MA200'] = SPX['Close'].rolling(window=200).mean()\n",
        "RUA['MA200'] = RUA['Close'].rolling(window=200).mean()\n",
        "SPX['MA10'] = SPX['Close'].rolling(window=10).mean()\n",
        "RUA['MA10'] = RUA['Close'].rolling(window=10).mean()\n",
        "# ATR 10 for volatility\n",
        "# SPX['ATR10'] = atr(high=SPX['High'], low=SPX['Low'], close=SPX['Close'], window=10)\n",
        "# RUA['ATR10'] = atr(high=RUA['High'], low=RUA['Low'], close=RUA['Close'], window=10)\n",
        "# Daily returns\n",
        "SPX['Return'] = SPX['Close'].pct_change()\n",
        "RUA['Return'] = RUA['Close'].pct_change()\n",
        "# StDev of daily returns\n",
        "SPX['StDev'] = SPX['Return'].rolling(10).std()\n",
        "RUA['StDev'] = RUA['Return'].rolling(10).std()\n",
        "# Side column if MA10 > MA200 1 (long), else -1 (short)\n",
        "SPX['Side'] = np.where(SPX['MA10'] > SPX['MA200'], 1, -1) \n",
        "RUA['Side'] = np.where(RUA['MA10'] > RUA['MA200'], 1, -1)\n",
        "# Shift side column forward by 1 so that we don't commit lookahead bias\n",
        "SPX['Side'] = SPX['Side'].shift(1)\n",
        "RUA['Side'] = RUA['Side'].shift(1)\n",
        "\n",
        "SPX['StratReturns'] = 0\n",
        "RUA['StratRetiuns'] = 0\n",
        "\n",
        "# drop values for first 200 days since no MA200\n",
        "SPX.dropna(inplace=True)\n",
        "RUA.dropna(inplace=True)\n"
      ]
    },
    {
      "cell_type": "code",
      "execution_count": 105,
      "metadata": {
        "id": "_2JoogMkY93U"
      },
      "outputs": [
        {
          "data": {
            "text/plain": [
              "4565"
            ]
          },
          "execution_count": 105,
          "metadata": {},
          "output_type": "execute_result"
        }
      ],
      "source": [
        "data = pd.concat([eco_unc, tbill, wti, effr], axis =1).dropna()\n",
        "len(effr)"
      ]
    },
    {
      "cell_type": "code",
      "execution_count": 106,
      "metadata": {
        "colab": {
          "base_uri": "https://localhost:8080/"
        },
        "id": "GNnX9blC34VT",
        "outputId": "9b4a9203-7903-40cf-a3ce-a4f9acf73143"
      },
      "outputs": [
        {
          "name": "stdout",
          "output_type": "stream",
          "text": [
            "[*********************100%***********************]  1 of 1 completed\n"
          ]
        }
      ],
      "source": [
        "st_date = dt.datetime(2000, 1, 1)\n",
        "ed_date = dt.datetime(2017, 12, 31)\n",
        "SNP500 = yf.download('^GSPC', st_date, ed_date)\n",
        "SNP500 = SNP500['Adj Close'].to_frame()\n",
        "SNP500.fillna(method = 'bfill', inplace=True)\n",
        "SNP500['SMA 5'] = SNP500['Adj Close'].rolling(5).mean()\n",
        "SNP500['SMA 200'] = SNP500['Adj Close'].rolling(200).mean()\n",
        "conditions = [SNP500['SMA 5'] >= SNP500['SMA 200'],\n",
        "              SNP500['SMA 5'] < SNP500['SMA 200']]\n",
        "choices = [1, 0]\n",
        "SNP500['outcome'] = np.select(conditions, choices, 0)\n",
        "# SNP500 = SNP500['outcome'].dropna()\n"
      ]
    },
    {
      "cell_type": "code",
      "execution_count": 107,
      "metadata": {
        "id": "vI0EdBn9Pwxw"
      },
      "outputs": [],
      "source": [
        "features = pd.merge(data, SNP500, left_index = True, right_index = True).dropna()\n",
        "X = features[['eco_unc', 'tbill', 'wti', 'effr']] \n",
        "y = features['outcome']\n",
        "X_train, X_test, y_train, y_test = train_test_split(X, y, test_size=0.999, random_state=911)"
      ]
    },
    {
      "cell_type": "code",
      "execution_count": 101,
      "metadata": {
        "colab": {
          "base_uri": "https://localhost:8080/",
          "height": 174
        },
        "id": "g9HoDAtX54Ka",
        "outputId": "55b744ad-86ce-495b-d752-b578ecb04ef1"
      },
      "outputs": [
        {
          "data": {
            "text/html": [
              "<div>\n",
              "<style scoped>\n",
              "    .dataframe tbody tr th:only-of-type {\n",
              "        vertical-align: middle;\n",
              "    }\n",
              "\n",
              "    .dataframe tbody tr th {\n",
              "        vertical-align: top;\n",
              "    }\n",
              "\n",
              "    .dataframe thead th {\n",
              "        text-align: right;\n",
              "    }\n",
              "</style>\n",
              "<table border=\"1\" class=\"dataframe\">\n",
              "  <thead>\n",
              "    <tr style=\"text-align: right;\">\n",
              "      <th></th>\n",
              "      <th>ft</th>\n",
              "      <th>VIF</th>\n",
              "    </tr>\n",
              "  </thead>\n",
              "  <tbody>\n",
              "    <tr>\n",
              "      <th>0</th>\n",
              "      <td>eco_unc</td>\n",
              "      <td>1.292640</td>\n",
              "    </tr>\n",
              "    <tr>\n",
              "      <th>1</th>\n",
              "      <td>tbill</td>\n",
              "      <td>104.428563</td>\n",
              "    </tr>\n",
              "    <tr>\n",
              "      <th>2</th>\n",
              "      <td>wti</td>\n",
              "      <td>1.511427</td>\n",
              "    </tr>\n",
              "    <tr>\n",
              "      <th>3</th>\n",
              "      <td>effr</td>\n",
              "      <td>107.554187</td>\n",
              "    </tr>\n",
              "  </tbody>\n",
              "</table>\n",
              "</div>"
            ],
            "text/plain": [
              "        ft         VIF\n",
              "0  eco_unc    1.292640\n",
              "1    tbill  104.428563\n",
              "2      wti    1.511427\n",
              "3     effr  107.554187"
            ]
          },
          "execution_count": 101,
          "metadata": {},
          "output_type": "execute_result"
        }
      ],
      "source": [
        "vif = pd.DataFrame()\n",
        "vif[\"ft\"] = data.columns\n",
        "vif[\"VIF\"] = [variance_inflation_factor(data.values, i)\n",
        "                         for i in range(len(data.columns))]\n",
        "vif"
      ]
    },
    {
      "cell_type": "code",
      "execution_count": 102,
      "metadata": {
        "colab": {
          "base_uri": "https://localhost:8080/"
        },
        "id": "od4h4lTUabwh",
        "outputId": "4b4f2e37-1102-4726-a7f4-a19a60bf5982"
      },
      "outputs": [
        {
          "name": "stdout",
          "output_type": "stream",
          "text": [
            "score 0.756200280767431\n",
            "              precision    recall  f1-score   support\n",
            "\n",
            "           0       0.62      0.66      0.64      1390\n",
            "           1       0.83      0.80      0.82      2884\n",
            "\n",
            "    accuracy                           0.76      4274\n",
            "   macro avg       0.72      0.73      0.73      4274\n",
            "weighted avg       0.76      0.76      0.76      4274\n",
            "\n"
          ]
        }
      ],
      "source": [
        "log_regression = LogisticRegression()\n",
        "log_regression.fit(X_train,y_train)\n",
        "\n",
        "y_pred = log_regression.predict(X_test)\n",
        "\n",
        "print('score', log_regression.score(X_test, y_test))   #Return the mean accuracy on the given test data and labels.\n",
        "\n",
        "from sklearn.metrics import classification_report\n",
        "print(classification_report(y_test,y_pred))"
      ]
    },
    {
      "cell_type": "code",
      "execution_count": null,
      "metadata": {},
      "outputs": [],
      "source": []
    },
    {
      "cell_type": "code",
      "execution_count": 109,
      "metadata": {},
      "outputs": [],
      "source": [
        "features.to_csv('features.csv')"
      ]
    },
    {
      "cell_type": "code",
      "execution_count": null,
      "metadata": {},
      "outputs": [],
      "source": []
    }
  ],
  "metadata": {
    "colab": {
      "collapsed_sections": [],
      "name": "LogisticReg2.ipynb",
      "provenance": []
    },
    "kernelspec": {
      "display_name": "Python 3",
      "name": "python3"
    },
    "language_info": {
      "name": "python",
      "version": "3.9.0"
    }
  },
  "nbformat": 4,
  "nbformat_minor": 0
}
