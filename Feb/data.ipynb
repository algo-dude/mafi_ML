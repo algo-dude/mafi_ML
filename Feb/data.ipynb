{
 "cells": [
  {
   "cell_type": "code",
   "execution_count": null,
   "metadata": {},
   "outputs": [],
   "source": [
    "import pandas as pd\n",
    "import numpy as np\n",
    "import yfinance as yf\n",
    "from ta.volatility import average_true_range as atr\n",
    " \n",
    "\n",
    "SPX = yf.download('^GSPC', start='1990-01-01', end='2018-01-01')\n",
    "RUA = yf.download('^RUA', start='1990-01-01', end='2018-01-01')\n",
    "# price is already adjusted\n",
    "SPX = SPX.drop(['Adj Close'], axis=1)\n",
    "RUA = RUA.drop(['Adj Close'], axis=1)\n",
    "# 10/200 MA\n",
    "SPX['MA200'] = SPX['Close'].rolling(window=200).mean()\n",
    "RUA['MA200'] = RUA['Close'].rolling(window=200).mean()\n",
    "SPX['MA10'] = SPX['Close'].rolling(window=10).mean()\n",
    "RUA['MA10'] = RUA['Close'].rolling(window=10).mean()\n",
    "# ATR 10 for volatility\n",
    "SPX['ATR10'] = atr(high=SPX['High'], low=SPX['Low'], close=SPX['Close'], window=10)\n",
    "RUA['ATR10'] = atr(high=RUA['High'], low=RUA['Low'], close=RUA['Close'], window=10)\n",
    "# Daily returns\n",
    "SPX['Return'] = SPX['Close'].pct_change()\n",
    "RUA['Return'] = RUA['Close'].pct_change()\n",
    "# StDev of daily returns\n",
    "SPX['StDev'] = SPX['Return'].rolling(10).std()\n",
    "RUA['StDev'] = RUA['Return'].rolling(10).std()\n",
    "# Side column if MA10 > MA200 1 (long), else -1 (short)\n",
    "SPX['Side'] = np.where(SPX['MA10'] > SPX['MA200'], 1, -1) \n",
    "RUA['Side'] = np.where(RUA['MA10'] > RUA['MA200'], 1, -1)\n",
    "# Shift side column forward by 1 so that we don't commit lookahead bias\n",
    "SPX['Side'] = SPX['Side'].shift(1)\n",
    "RUA['Side'] = RUA['Side'].shift(1)\n",
    "\n",
    "SPX['StratReturns'] = 0\n",
    "RUA['StratRetiuns'] = 0\n",
    "\n",
    "for i, r in SPX.iterrows():\n",
    "    # if side = 1, we get 'returns' column\n",
    "    if r['Side'] == 1:\n",
    "        SPX['StratReturns'][i] = r['Return']\n",
    "    elif r['Side'] == -1:\n",
    "        SPX['StratReturns'][i] = 0\n",
    "    # else:\n",
    "    #     SPX['StratReturns'][i] = 0\n",
    "\n",
    "for i, r in RUA.iterrows():\n",
    "    # if side = 1, we get 'returns' column\n",
    "    if r['Side'] == 1:\n",
    "        RUA['StratRetiuns'][i] = r['Return']\n",
    "    elif r['Side'] == -1:\n",
    "        RUA['StratRetiuns'][i] = 0\n",
    "    # else:\n",
    "    #     RUA['StratRetiuns'][i] = 0\n",
    "\n",
    "\n",
    "# drop values for first 200 days since no MA200\n",
    "SPX.dropna(inplace=True)\n",
    "RUA.dropna(inplace=True)\n",
    "\n",
    "\n"
   ]
  },
  {
   "cell_type": "code",
   "execution_count": null,
   "metadata": {},
   "outputs": [],
   "source": [
    "from hmmlearn.hmm import GaussianHMM\n",
    "\n",
    "##### HMM state 0 is bullish, 1 is bearish #####\n",
    "\n",
    "rets = np.column_stack([SPX[\"Return\"]])\n",
    "hmm_model = GaussianHMM(n_components=2, covariance_type=\"full\", n_iter=10000).fit(rets)\n",
    "hidden_states = hmm_model.predict(rets)\n",
    "SPX['HMM_state'] = hidden_states\n",
    "\n",
    "rets = np.column_stack([RUA[\"Return\"]])\n",
    "hmm_model = GaussianHMM(n_components=2, covariance_type=\"full\", n_iter=10000).fit(rets)\n",
    "hidden_states = hmm_model.predict(rets)\n",
    "RUA['HMM_state'] = hidden_states\n",
    "\n"
   ]
  },
  {
   "cell_type": "code",
   "execution_count": null,
   "metadata": {},
   "outputs": [],
   "source": [
    "RUA"
   ]
  },
  {
   "cell_type": "code",
   "execution_count": null,
   "metadata": {},
   "outputs": [],
   "source": []
  },
  {
   "cell_type": "code",
   "execution_count": null,
   "metadata": {},
   "outputs": [],
   "source": [
    "# backtest for long when Side is 1, cash when -1\n",
    "# enter and exit on the Open\n",
    "capital = 100000\n",
    "SPX['Cash'] = capital\n",
    "for i, r in SPX.iterrows():\n",
    "    capital = capital * (1 + r['StratReturns'])\n",
    "    SPX.loc[i, 'Cash'] = capital\n",
    "capital\n",
    "\n"
   ]
  },
  {
   "cell_type": "code",
   "execution_count": null,
   "metadata": {},
   "outputs": [],
   "source": [
    "SPX"
   ]
  },
  {
   "cell_type": "code",
   "execution_count": null,
   "metadata": {},
   "outputs": [],
   "source": [
    "# plot SPX returns\n",
    "SPX['Close'].plot(figsize=(10,5))"
   ]
  },
  {
   "cell_type": "code",
   "execution_count": null,
   "metadata": {},
   "outputs": [],
   "source": [
    "# plot state of HMM at SPX price\n",
    "SPX['HMM_state'].plot(figsize=(10,5))"
   ]
  },
  {
   "cell_type": "code",
   "execution_count": null,
   "metadata": {},
   "outputs": [],
   "source": []
  }
 ],
 "metadata": {
  "interpreter": {
   "hash": "949777d72b0d2535278d3dc13498b2535136f6dfe0678499012e853ee9abcab1"
  },
  "kernelspec": {
   "display_name": "Python 3.9.0 64-bit",
   "language": "python",
   "name": "python3"
  },
  "language_info": {
   "codemirror_mode": {
    "name": "ipython",
    "version": 3
   },
   "file_extension": ".py",
   "mimetype": "text/x-python",
   "name": "python",
   "nbconvert_exporter": "python",
   "pygments_lexer": "ipython3",
   "version": "3.9.0"
  },
  "orig_nbformat": 4
 },
 "nbformat": 4,
 "nbformat_minor": 2
}
