{
 "cells": [
  {
   "cell_type": "code",
   "execution_count": 4,
   "metadata": {},
   "outputs": [
    {
     "name": "stderr",
     "output_type": "stream",
     "text": [
      "Exception in thread Thread-4:\n",
      "Traceback (most recent call last):\n",
      "  File \"/Library/Frameworks/Python.framework/Versions/3.9/lib/python3.9/threading.py\", line 950, in _bootstrap_inner\n",
      "    self.run()\n",
      "  File \"/Library/Frameworks/Python.framework/Versions/3.9/lib/python3.9/threading.py\", line 888, in run\n",
      "    self._target(*self._args, **self._kwargs)\n",
      "  File \"/Library/Frameworks/Python.framework/Versions/3.9/lib/python3.9/site-packages/multitasking/__init__.py\", line 104, in _run_via_pool\n",
      "    return callee(*args, **kwargs)\n",
      "  File \"/Library/Frameworks/Python.framework/Versions/3.9/lib/python3.9/site-packages/yfinance/multi.py\", line 188, in _download_one_threaded\n",
      "    data = _download_one(ticker, start, end, auto_adjust, back_adjust,\n",
      "  File \"/Library/Frameworks/Python.framework/Versions/3.9/lib/python3.9/site-packages/yfinance/multi.py\", line 202, in _download_one\n",
      "    return Ticker(ticker).history(period=period, interval=interval,\n",
      "  File \"/Library/Frameworks/Python.framework/Versions/3.9/lib/python3.9/site-packages/yfinance/base.py\", line 295, in history\n",
      "    df.index = df.index.tz_localize(\"UTC\").tz_convert(\n",
      "AttributeError: 'Index' object has no attribute 'tz_localize'\n"
     ]
    }
   ],
   "source": [
    "from datetime import datetime\n",
    "import backtrader as bt\n",
    "import yfinance as yf\n",
    "\n",
    "# Create a subclass of Strategy to define the indicators and logic\n",
    "\n",
    "class SmaCross(bt.Strategy):\n",
    "    # list of parameters which are configurable for the strategy\n",
    "    params = dict(\n",
    "        pfast=10,  # period for the fast moving average\n",
    "        pslow=30   # period for the slow moving average\n",
    "    )\n",
    "\n",
    "    def __init__(self):\n",
    "        sma1 = bt.ind.SMA(period=self.p.pfast)  # fast moving average\n",
    "        sma2 = bt.ind.SMA(period=self.p.pslow)  # slow moving average\n",
    "        self.crossover = bt.ind.CrossOver(sma1, sma2)  # crossover signal\n",
    "\n",
    "    def next(self):\n",
    "        if not self.position:  # not in the market\n",
    "            if self.crossover > 0:  # if fast crosses slow to the upside\n",
    "                self.buy()  # enter long\n",
    "\n",
    "        elif self.crossover < 0:  # in the market & cross to the downside\n",
    "            self.close()  # close long position\n",
    "\n",
    "\n",
    "cerebro = bt.Cerebro()  # create a \"Cerebro\" engine instance\n",
    "\n",
    "# Create a data feed\n",
    "data = bt.feeds.PandasData(dataname=yf.download('TSLA', '2018-01-01', '2019-01-01'))\n",
    "\n",
    "cerebro.adddata(data)  # Add the data feed\n",
    "\n",
    "cerebro.addstrategy(SmaCross)  # Add the trading strategy\n",
    "cerebro.run()  # run it all\n",
    "cerebro.plot()  # and plot it with a single command"
   ]
  },
  {
   "cell_type": "code",
   "execution_count": null,
   "metadata": {},
   "outputs": [],
   "source": []
  }
 ],
 "metadata": {
  "interpreter": {
   "hash": "949777d72b0d2535278d3dc13498b2535136f6dfe0678499012e853ee9abcab1"
  },
  "kernelspec": {
   "display_name": "Python 3.9.0 64-bit",
   "language": "python",
   "name": "python3"
  },
  "language_info": {
   "codemirror_mode": {
    "name": "ipython",
    "version": 3
   },
   "file_extension": ".py",
   "mimetype": "text/x-python",
   "name": "python",
   "nbconvert_exporter": "python",
   "pygments_lexer": "ipython3",
   "version": "3.9.0"
  },
  "orig_nbformat": 4
 },
 "nbformat": 4,
 "nbformat_minor": 2
}
